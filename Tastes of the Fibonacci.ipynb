{
 "cells": [
  {
   "cell_type": "code",
   "execution_count": 1,
   "id": "07659374",
   "metadata": {},
   "outputs": [],
   "source": [
    "from sympy import *\n",
    "init_printing()\n",
    "n, k = symbols(\"n, k\", integer=True)\n",
    "f = Function(\"f\")\n",
    "x, y = symbols(\"x, y\")"
   ]
  },
  {
   "cell_type": "markdown",
   "id": "0a86ad9b",
   "metadata": {},
   "source": [
    "# Various approaches to solving the Fibonacci recursion"
   ]
  },
  {
   "cell_type": "markdown",
   "id": "4c7a1bb9-ffea-4e80-b43d-9558343d58ef",
   "metadata": {},
   "source": [
    "![Alt text](./fbc.svg)\n",
    "from https://pixabay.com/vectors/fibonacci-golden-ratio-3594147/"
   ]
  },
  {
   "cell_type": "markdown",
   "id": "0873d3aa",
   "metadata": {},
   "source": [
    "The notes here explore calculating Fibonacci numbers from different perspective. The goal is to explore a various ways to solve the same elementary problem, and point some connections between them.\n",
    "\n",
    "For simplicity the solutions will be based on python and its CAS library Sympy.\n",
    "\n",
    "First we solve the recurence just using the proper library method.\n",
    "\n",
    "Based on the book generatingfunctionology by Herbert S. Wilf we can learn nice way to calculate recursive equations.\n",
    "The book is available for free here: https://people.math.rochester.edu/faculty/doug/otherpapers/wilf.pdf\n",
    "\n",
    "Then we will solve the recursion using elementary linear algebra.\n",
    "\n",
    "And finally we solve it with classic for python programing methods."
   ]
  },
  {
   "cell_type": "markdown",
   "id": "ef6a69f2",
   "metadata": {},
   "source": [
    "Lets start Fibonacci recursion takes form: $$F_{n+1}=F_n+F_{n-1}\\ (F_0=0; F_1=1)$$"
   ]
  },
  {
   "cell_type": "markdown",
   "id": "9bfbf9a1",
   "metadata": {},
   "source": [
    "Lets describe nth coefficient as solution of recurence:"
   ]
  },
  {
   "cell_type": "code",
   "execution_count": 2,
   "id": "01aa15ea",
   "metadata": {},
   "outputs": [],
   "source": [
    "from sympy.series.sequences import RecursiveSeq\n",
    "fib = RecursiveSeq(f(n - 1) + f(n - 2), f(n), n, [0, 1])"
   ]
  },
  {
   "cell_type": "code",
   "execution_count": 3,
   "id": "ee380c8f",
   "metadata": {},
   "outputs": [
    {
     "data": {
      "image/png": "[encoded data removed]",
      "text/latex": [
       "$\\displaystyle - \\frac{\\sqrt{5} \\left(\\frac{1}{2} - \\frac{\\sqrt{5}}{2}\\right)^{n}}{5} + \\frac{\\sqrt{5} \\left(\\frac{1}{2} + \\frac{\\sqrt{5}}{2}\\right)^{n}}{5}$"
      ],
      "text/plain": [
       "             n              n\n",
       "     ⎛1   √5⎞       ⎛1   √5⎞ \n",
       "  √5⋅⎜─ - ──⎟    √5⋅⎜─ + ──⎟ \n",
       "     ⎝2   2 ⎠       ⎝2   2 ⎠ \n",
       "- ──────────── + ────────────\n",
       "       5              5      "
      ]
     },
     "execution_count": 3,
     "metadata": {},
     "output_type": "execute_result"
    }
   ],
   "source": [
    "nth = rsolve(fib.recurrence.rhs - fib.recurrence.lhs, fib.recurrence.lhs, list(fib.initial))\n",
    "nth"
   ]
  },
  {
   "cell_type": "code",
   "execution_count": 4,
   "id": "2be42cde",
   "metadata": {},
   "outputs": [
    {
     "data": {
      "image/png": "[encoded data removed]",
      "text/latex": [
       "$\\displaystyle \\left[ 1, \\  1, \\  2, \\  3, \\  5, \\  8, \\  13, \\  21, \\  34, \\  55, \\  89, \\  144\\right]$"
      ],
      "text/plain": [
       "[1, 1, 2, 3, 5, 8, 13, 21, 34, 55, 89, 144]"
      ]
     },
     "execution_count": 4,
     "metadata": {},
     "output_type": "execute_result"
    }
   ],
   "source": [
    "list((nth.subs(n,x).simplify() for x in range(1,13)))"
   ]
  },
  {
   "cell_type": "markdown",
   "id": "fca7ecdf",
   "metadata": {},
   "source": [
    "Lets mark the connection to the golden ratio here:"
   ]
  },
  {
   "cell_type": "markdown",
   "id": "6d73c908-70da-48d2-b3fb-e66c2fe3215e",
   "metadata": {},
   "source": [
    "Lets calculate $$\\displaystyle \\lim_{n\\rightarrow\\infty} \\frac{F_{n+1}}{F_n}$$"
   ]
  },
  {
   "cell_type": "code",
   "execution_count": 5,
   "id": "3c559152-ebe5-4541-a51d-21425bd1bc94",
   "metadata": {},
   "outputs": [
    {
     "data": {
      "image/png": "[encoded data removed]",
      "text/latex": [
       "$\\displaystyle 1.61803398874989$"
      ],
      "text/plain": [
       "1.61803398874989"
      ]
     },
     "execution_count": 5,
     "metadata": {},
     "output_type": "execute_result"
    }
   ],
   "source": [
    "(nth.subs(n, n+1) / nth).limit(n, 100).evalf() # 100 is big enough"
   ]
  },
  {
   "cell_type": "markdown",
   "id": "22d19de1-3728-40e7-a944-d0ec4e26ff4d",
   "metadata": {},
   "source": [
    "We can extract the most revelant coefficient to see that it is dominant."
   ]
  },
  {
   "cell_type": "code",
   "execution_count": 6,
   "id": "71c67006",
   "metadata": {},
   "outputs": [
    {
     "data": {
      "image/png": "[encoded data removed]",
      "text/latex": [
       "$\\displaystyle \\left( \\left(\\frac{1}{2} + \\frac{\\sqrt{5}}{2}\\right)^{n}, \\  1.61803398874989^{n}\\right)$"
      ],
      "text/plain": [
       "⎛        n                   ⎞\n",
       "⎜⎛1   √5⎞                   n⎟\n",
       "⎜⎜─ + ──⎟ , 1.61803398874989 ⎟\n",
       "⎝⎝2   2 ⎠                    ⎠"
      ]
     },
     "execution_count": 6,
     "metadata": {},
     "output_type": "execute_result"
    }
   ],
   "source": [
    "nth.args[1].args[2], nth.args[1].args[2].evalf()"
   ]
  },
  {
   "cell_type": "code",
   "execution_count": 7,
   "id": "256b4733",
   "metadata": {},
   "outputs": [
    {
     "data": {
      "image/png": "[encoded data removed]",
      "text/latex": [
       "$\\displaystyle \\sum_{n=0}^{\\infty} x^{n} \\left(- \\frac{\\sqrt{5} \\left(\\frac{1}{2} - \\frac{\\sqrt{5}}{2}\\right)^{n}}{5} + \\frac{\\sqrt{5} \\left(\\frac{1}{2} + \\frac{\\sqrt{5}}{2}\\right)^{n}}{5}\\right)$"
      ],
      "text/plain": [
       "  ∞                                     \n",
       "_____                                   \n",
       "╲                                       \n",
       " ╲       ⎛             n              n⎞\n",
       "  ╲      ⎜     ⎛1   √5⎞       ⎛1   √5⎞ ⎟\n",
       "   ╲     ⎜  √5⋅⎜─ - ──⎟    √5⋅⎜─ + ──⎟ ⎟\n",
       "   ╱   n ⎜     ⎝2   2 ⎠       ⎝2   2 ⎠ ⎟\n",
       "  ╱   x ⋅⎜- ──────────── + ────────────⎟\n",
       " ╱       ⎝       5              5      ⎠\n",
       "╱                                       \n",
       "‾‾‾‾‾                                   \n",
       "n = 0                                   "
      ]
     },
     "execution_count": 7,
     "metadata": {},
     "output_type": "execute_result"
    }
   ],
   "source": [
    "recurence_sum = Sum(nth * (x ** n),(n,0,oo))\n",
    "recurence_sum"
   ]
  },
  {
   "cell_type": "markdown",
   "id": "bf31fa24",
   "metadata": {},
   "source": [
    "## Generating function"
   ]
  },
  {
   "cell_type": "markdown",
   "id": "af3500f1",
   "metadata": {},
   "source": [
    "Lets get nth coefficient as solution of the generating function sometimes also called unitary Z transform:"
   ]
  },
  {
   "cell_type": "code",
   "execution_count": 8,
   "id": "d7e16ad0",
   "metadata": {},
   "outputs": [
    {
     "data": {
      "image/png": "[encoded data removed]",
      "text/latex": [
       "$\\displaystyle \\sum_{k=0}^{\\infty} x^{k} \\left(- \\frac{\\sqrt{5} \\left(\\frac{1}{2} - \\frac{\\sqrt{5}}{2}\\right)^{k}}{5} + \\frac{\\sqrt{5} \\left(\\frac{1}{2} + \\frac{\\sqrt{5}}{2}\\right)^{k}}{5}\\right)$"
      ],
      "text/plain": [
       "  ∞                                     \n",
       "_____                                   \n",
       "╲                                       \n",
       " ╲       ⎛             k              k⎞\n",
       "  ╲      ⎜     ⎛1   √5⎞       ⎛1   √5⎞ ⎟\n",
       "   ╲     ⎜  √5⋅⎜─ - ──⎟    √5⋅⎜─ + ──⎟ ⎟\n",
       "   ╱   k ⎜     ⎝2   2 ⎠       ⎝2   2 ⎠ ⎟\n",
       "  ╱   x ⋅⎜- ──────────── + ────────────⎟\n",
       " ╱       ⎝       5              5      ⎠\n",
       "╱                                       \n",
       "‾‾‾‾‾                                   \n",
       "k = 0                                   "
      ]
     },
     "execution_count": 8,
     "metadata": {},
     "output_type": "execute_result"
    }
   ],
   "source": [
    "from sympy import fps\n",
    "fib_gen = x/(1-x-x**2)\n",
    "fib_genf = fps(fib_gen)\n",
    "fib_genf"
   ]
  },
  {
   "cell_type": "code",
   "execution_count": 9,
   "id": "13ad031c",
   "metadata": {},
   "outputs": [
    {
     "data": {
      "image/png": "[encoded data removed]",
      "text/latex": [
       "$\\displaystyle - \\frac{\\sqrt{5} \\left(\\frac{1}{2} - \\frac{\\sqrt{5}}{2}\\right)^{k}}{5} + \\frac{\\sqrt{5} \\left(\\frac{1}{2} + \\frac{\\sqrt{5}}{2}\\right)^{k}}{5}$"
      ],
      "text/plain": [
       "             k              k\n",
       "     ⎛1   √5⎞       ⎛1   √5⎞ \n",
       "  √5⋅⎜─ - ──⎟    √5⋅⎜─ + ──⎟ \n",
       "     ⎝2   2 ⎠       ⎝2   2 ⎠ \n",
       "- ──────────── + ────────────\n",
       "       5              5      "
      ]
     },
     "execution_count": 9,
     "metadata": {},
     "output_type": "execute_result"
    }
   ],
   "source": [
    "nth_genf = fib_genf.ak.formula\n",
    "nth_genf"
   ]
  },
  {
   "cell_type": "markdown",
   "id": "58e18818",
   "metadata": {},
   "source": [
    "They look the same, can we put them the same form and compare:"
   ]
  },
  {
   "cell_type": "code",
   "execution_count": 10,
   "id": "38ec9a09",
   "metadata": {},
   "outputs": [
    {
     "data": {
      "text/plain": [
       "(sympy.core.add.Add, sympy.core.add.Add)"
      ]
     },
     "execution_count": 10,
     "metadata": {},
     "output_type": "execute_result"
    }
   ],
   "source": [
    "type(nth_genf), type(nth)"
   ]
  },
  {
   "cell_type": "code",
   "execution_count": 11,
   "id": "2997a3f1",
   "metadata": {},
   "outputs": [],
   "source": [
    "free_k = nth_genf.free_symbols\n",
    "the_k = free_k.pop()"
   ]
  },
  {
   "cell_type": "code",
   "execution_count": 12,
   "id": "a6f59ceb",
   "metadata": {},
   "outputs": [
    {
     "data": {
      "image/png": "[encoded data removed]",
      "text/latex": [
       "$\\displaystyle \\left( - \\frac{\\sqrt{5} \\left(\\frac{1}{2} - \\frac{\\sqrt{5}}{2}\\right)^{k}}{5} + \\frac{\\sqrt{5} \\left(\\frac{1}{2} + \\frac{\\sqrt{5}}{2}\\right)^{k}}{5}, \\  - \\frac{\\sqrt{5} \\left(\\frac{1}{2} - \\frac{\\sqrt{5}}{2}\\right)^{k}}{5} + \\frac{\\sqrt{5} \\left(\\frac{1}{2} + \\frac{\\sqrt{5}}{2}\\right)^{k}}{5}\\right)$"
      ],
      "text/plain": [
       "⎛             k              k               k              k⎞\n",
       "⎜     ⎛1   √5⎞       ⎛1   √5⎞        ⎛1   √5⎞       ⎛1   √5⎞ ⎟\n",
       "⎜  √5⋅⎜─ - ──⎟    √5⋅⎜─ + ──⎟     √5⋅⎜─ - ──⎟    √5⋅⎜─ + ──⎟ ⎟\n",
       "⎜     ⎝2   2 ⎠       ⎝2   2 ⎠        ⎝2   2 ⎠       ⎝2   2 ⎠ ⎟\n",
       "⎜- ──────────── + ────────────, - ──────────── + ────────────⎟\n",
       "⎝       5              5               5              5      ⎠"
      ]
     },
     "execution_count": 12,
     "metadata": {},
     "output_type": "execute_result"
    }
   ],
   "source": [
    "nth_genf.xreplace({the_k:k}), nth.xreplace({n:k}) "
   ]
  },
  {
   "cell_type": "markdown",
   "id": "849a6b35",
   "metadata": {},
   "source": [
    "### Ordinary generating function operations"
   ]
  },
  {
   "cell_type": "markdown",
   "id": "726e0f1f",
   "metadata": {},
   "source": [
    "From the book we can find a rules that can be helpful in manipulating the generating functions.\n",
    "Lets $$f\\ \\overset{ops}\\longleftrightarrow\\  \\{a_n\\}^\\infty_n, g\\ \\overset{ops}\\longleftrightarrow\\  \\{b_n\\}^\\infty_n $$\n",
    "Then\n",
    "Rule 1:\n",
    " $$\\frac{f - a_0 - \\ldots - a_{h-1}x^{h-1}}{x^h}\\ \\overset{ops}\\longleftrightarrow\\  \\{a_{n+h}\\}^\\infty_n$$\n",
    "Rule 2:\n",
    " $$P(xD)f \\overset{ops}\\longleftrightarrow\\  \\{P(n)\\cdot a_n\\}^\\infty_n  $$ \n",
    "Rule 3:\n",
    " $$f \\cdot g \\overset{ops}\\longleftrightarrow\\  {\\huge\\{} \\sum_{r=0}^n a_r\\cdot b_{n-r} {\\huge\\}}^\\infty_n  $$  \n",
    " Rule 4:\n",
    " $$f^k \\overset{ops}\\longleftrightarrow\\ {\\huge\\{} \\sum_{n_1+\\cdots + n_k=n}  a_{n_1} \\cdot \\cdots \\cdot a_{n_k} {\\huge\\}}^\\infty_n  $$ \n",
    " Rule 5:\n",
    " $$\\frac{f}{1-x} \\overset{ops}\\longleftrightarrow\\  {\\huge\\{} \\sum_{j=0}^n a_j {\\huge\\}}^\\infty_n  $$ \n",
    " "
   ]
  },
  {
   "cell_type": "markdown",
   "id": "4324d5f2",
   "metadata": {},
   "source": [
    "For convenience we will implement some of the functions:"
   ]
  },
  {
   "cell_type": "code",
   "execution_count": 13,
   "id": "d28bd2ad",
   "metadata": {},
   "outputs": [],
   "source": [
    "def shift(fun, coeffs):\n",
    "    for index, coeff in enumerate(coeffs):\n",
    "        fun = fun - coeff * x ** index\n",
    "    return fun/x ** len(coeffs)\n",
    "\n",
    "def xDiffN(fun, N):\n",
    "    for i in range(0,N):\n",
    "        fun = x * diff(fun,x)\n",
    "    return fun"
   ]
  },
  {
   "cell_type": "markdown",
   "id": "4263f4df",
   "metadata": {},
   "source": [
    "We can use our operator to get generating function for the Fibonnacci recursion through generating functions manipulation."
   ]
  },
  {
   "cell_type": "code",
   "execution_count": 14,
   "id": "4e2233c8",
   "metadata": {},
   "outputs": [
    {
     "data": {
      "image/png": "[encoded data removed]",
      "text/latex": [
       "$\\displaystyle \\frac{- x + f{\\left(x \\right)}}{x^{2}}$"
      ],
      "text/plain": [
       "-x + f(x)\n",
       "─────────\n",
       "     2   \n",
       "    x    "
      ]
     },
     "execution_count": 14,
     "metadata": {},
     "output_type": "execute_result"
    }
   ],
   "source": [
    "f2 = shift(f(x), [0,1])\n",
    "f2"
   ]
  },
  {
   "cell_type": "code",
   "execution_count": 15,
   "id": "8aa8d466",
   "metadata": {},
   "outputs": [
    {
     "data": {
      "image/png": "[encoded data removed]",
      "text/latex": [
       "$\\displaystyle \\frac{f{\\left(x \\right)}}{x}$"
      ],
      "text/plain": [
       "f(x)\n",
       "────\n",
       " x  "
      ]
     },
     "execution_count": 15,
     "metadata": {},
     "output_type": "execute_result"
    }
   ],
   "source": [
    "f1 = shift(f(x), [0])\n",
    "f1"
   ]
  },
  {
   "cell_type": "code",
   "execution_count": 16,
   "id": "f523cd2d",
   "metadata": {},
   "outputs": [
    {
     "data": {
      "image/png": "[encoded data removed]",
      "text/latex": [
       "$\\displaystyle - f{\\left(x \\right)} - \\frac{f{\\left(x \\right)}}{x} + \\frac{- x + f{\\left(x \\right)}}{x^{2}}$"
      ],
      "text/plain": [
       "        f(x)   -x + f(x)\n",
       "-f(x) - ──── + ─────────\n",
       "         x          2   \n",
       "                   x    "
      ]
     },
     "execution_count": 16,
     "metadata": {},
     "output_type": "execute_result"
    }
   ],
   "source": [
    "eq = Function(\"eq\")\n",
    "eq = f2 - f1 - f(x)\n",
    "eq"
   ]
  },
  {
   "cell_type": "code",
   "execution_count": 17,
   "id": "5dc6cab7",
   "metadata": {},
   "outputs": [
    {
     "data": {
      "image/png": "[encoded data removed]",
      "text/latex": [
       "$\\displaystyle - \\frac{x}{x^{2} + x - 1}$"
      ],
      "text/plain": [
       "   -x     \n",
       "──────────\n",
       " 2        \n",
       "x  + x - 1"
      ]
     },
     "execution_count": 17,
     "metadata": {},
     "output_type": "execute_result"
    }
   ],
   "source": [
    "list(solveset(eq,f(x))).pop()"
   ]
  },
  {
   "cell_type": "markdown",
   "id": "c168f0ed",
   "metadata": {},
   "source": [
    "Check rule 2 (p. 35)"
   ]
  },
  {
   "cell_type": "markdown",
   "id": "b4b65563",
   "metadata": {},
   "source": [
    "For Rule 5 let's try Example 6 from p.38. Proving some intersting equality for the sequence.\n",
    "$$ $$\n",
    "$$F_0 + F_1 + \\ldots + F_n = F_{n+2} - 1$$"
   ]
  },
  {
   "cell_type": "code",
   "execution_count": 18,
   "id": "bae99085",
   "metadata": {},
   "outputs": [
    {
     "data": {
      "image/png": "[encoded data removed]",
      "text/latex": [
       "$\\displaystyle \\frac{x}{\\left(1 - x\\right) \\left(- x^{2} - x + 1\\right)}$"
      ],
      "text/plain": [
       "          x           \n",
       "──────────────────────\n",
       "        ⎛   2        ⎞\n",
       "(1 - x)⋅⎝- x  - x + 1⎠"
      ]
     },
     "execution_count": 18,
     "metadata": {},
     "output_type": "execute_result"
    }
   ],
   "source": [
    "lhs = fib_gen /(1 - x).simplify()\n",
    "lhs"
   ]
  },
  {
   "cell_type": "code",
   "execution_count": 19,
   "id": "ae68a579",
   "metadata": {},
   "outputs": [
    {
     "data": {
      "image/png": "[encoded data removed]",
      "text/latex": [
       "$\\displaystyle \\frac{x}{x^{3} - 2 x + 1}$"
      ],
      "text/plain": [
       "     x      \n",
       "────────────\n",
       " 3          \n",
       "x  - 2⋅x + 1"
      ]
     },
     "execution_count": 19,
     "metadata": {},
     "output_type": "execute_result"
    }
   ],
   "source": [
    "rhs = (shift(fib_gen,[0,1]) - 1/(1-x)).simplify()\n",
    "rhs"
   ]
  },
  {
   "cell_type": "code",
   "execution_count": 20,
   "id": "146b7a3f",
   "metadata": {},
   "outputs": [
    {
     "data": {
      "image/png": "[encoded data removed]",
      "text/latex": [
       "$\\displaystyle 0$"
      ],
      "text/plain": [
       "0"
      ]
     },
     "execution_count": 20,
     "metadata": {},
     "output_type": "execute_result"
    }
   ],
   "source": [
    "(lhs - rhs).simplify()"
   ]
  },
  {
   "cell_type": "markdown",
   "id": "733c3ba5",
   "metadata": {},
   "source": [
    "## Exponential generating function operations"
   ]
  },
  {
   "cell_type": "markdown",
   "id": "88edae8e",
   "metadata": {},
   "source": [
    "The same way we can use the exponential generating functions and their rules to figure out Fibonacci sequence."
   ]
  },
  {
   "cell_type": "markdown",
   "id": "43a0fa4c",
   "metadata": {},
   "source": [
    "Lets $$f\\ \\overset{egf}\\longleftrightarrow\\  \\{a_n\\}^\\infty_n, g\\ \\overset{egf}\\longleftrightarrow\\  \\{b_n\\}^\\infty_n $$\n",
    "Then\n",
    "Rule 1':\n",
    " $$D^hf \\overset{egf}\\longleftrightarrow\\  \\{a_{n+h}\\}^\\infty_n$$\n",
    "Rule 2':\n",
    " $$P(xD)f \\overset{egf}\\longleftrightarrow\\  \\{P(n)\\cdot a_n\\}^\\infty_n  $$ \n",
    "Rule 3':\n",
    " $$f \\cdot g \\overset{egf}\\longleftrightarrow\\  {\\huge\\{} \\sum_{r} \\binom{n}{r}\\cdot a_r\\cdot b_{n-r} {\\huge\\}}^\\infty_n  $$  \n",
    " "
   ]
  },
  {
   "cell_type": "code",
   "execution_count": 21,
   "id": "cd286a37",
   "metadata": {},
   "outputs": [
    {
     "data": {
      "image/png": "[encoded data removed]",
      "text/latex": [
       "$\\displaystyle - \\frac{d}{d x} F{\\left(x \\right)} + \\frac{d^{2}}{d x^{2}} F{\\left(x \\right)} = F{\\left(x \\right)}$"
      ],
      "text/plain": [
       "               2             \n",
       "  d           d              \n",
       "- ──(F(x)) + ───(F(x)) = F(x)\n",
       "  dx           2             \n",
       "             dx              "
      ]
     },
     "execution_count": 21,
     "metadata": {},
     "output_type": "execute_result"
    }
   ],
   "source": [
    "F = symbols('F', cls=Function)\n",
    "diffeq = Eq(F(x).diff(x, x) - F(x).diff(x), F(x))\n",
    "diffeq"
   ]
  },
  {
   "cell_type": "code",
   "execution_count": 22,
   "id": "3df35c80",
   "metadata": {},
   "outputs": [
    {
     "data": {
      "image/png": "[encoded data removed]",
      "text/latex": [
       "$\\displaystyle F{\\left(x \\right)} = C_{1} e^{\\frac{x \\left(1 - \\sqrt{5}\\right)}{2}} + C_{2} e^{\\frac{x \\left(1 + \\sqrt{5}\\right)}{2}}$"
      ],
      "text/plain": [
       "           x⋅(1 - √5)       x⋅(1 + √5)\n",
       "           ──────────       ──────────\n",
       "               2                2     \n",
       "F(x) = C₁⋅ℯ           + C₂⋅ℯ          "
      ]
     },
     "execution_count": 22,
     "metadata": {},
     "output_type": "execute_result"
    }
   ],
   "source": [
    "Solution = dsolve(diffeq, F(x))\n",
    "Solution"
   ]
  },
  {
   "cell_type": "code",
   "execution_count": 23,
   "id": "a83a0930",
   "metadata": {},
   "outputs": [],
   "source": [
    "CopyFree = Solution.free_symbols.copy()\n",
    "CopyFree.discard(x)\n",
    "[C1 , C2] = list(CopyFree)"
   ]
  },
  {
   "cell_type": "code",
   "execution_count": 24,
   "id": "0e96e86e",
   "metadata": {},
   "outputs": [
    {
     "data": {
      "image/png": "[encoded data removed]",
      "text/latex": [
       "$\\displaystyle \\left\\{ C_{1} : - \\frac{\\sqrt{5}}{5}, \\  C_{2} : \\frac{\\sqrt{5}}{5}\\right\\}$"
      ],
      "text/plain": [
       "⎧    -√5       √5⎫\n",
       "⎨C₁: ────, C₂: ──⎬\n",
       "⎩     5        5 ⎭"
      ]
     },
     "execution_count": 24,
     "metadata": {},
     "output_type": "execute_result"
    }
   ],
   "source": [
    "C1 = solve(Solution.subs(x, 0).subs(F(0), 0), 'C1')[0]\n",
    "Solution\n",
    "\n",
    "inits = solve([Solution.rhs.diff(x).subs(x, 0) - 1,\n",
    "Solution.rhs.subs(x, 0) -  0])\n",
    "inits"
   ]
  },
  {
   "cell_type": "code",
   "execution_count": 25,
   "id": "1d62e14b",
   "metadata": {},
   "outputs": [
    {
     "data": {
      "image/png": "[encoded data removed]",
      "text/latex": [
       "$\\displaystyle \\frac{\\sqrt{5} \\left(- e^{\\frac{x \\left(1 - \\sqrt{5}\\right)}{2}} + e^{\\frac{x \\left(1 + \\sqrt{5}\\right)}{2}}\\right)}{5}$"
      ],
      "text/plain": [
       "   ⎛   x⋅(1 - √5)    x⋅(1 + √5)⎞\n",
       "   ⎜   ──────────    ──────────⎟\n",
       "   ⎜       2             2     ⎟\n",
       "√5⋅⎝- ℯ           + ℯ          ⎠\n",
       "────────────────────────────────\n",
       "               5                "
      ]
     },
     "execution_count": 25,
     "metadata": {},
     "output_type": "execute_result"
    }
   ],
   "source": [
    "S = Solution.subs(inits).rhs.simplify()\n",
    "S"
   ]
  },
  {
   "cell_type": "code",
   "execution_count": 26,
   "id": "d0eab5fd",
   "metadata": {},
   "outputs": [],
   "source": [
    "def exp_fps(Equation):\n",
    "    formula = fps(Equation).ak.formula\n",
    "    the_k = list(formula.free_symbols)\n",
    "    if the_k:\n",
    "        return (formula.subs(the_k[0], k) * factorial(k)).simplify()\n",
    "    else:\n",
    "        return formula.simplify()\n",
    "    \n",
    "def ord_fps(Equation):\n",
    "    formula = fps(Equation).ak.formula\n",
    "    the_k = list(formula.free_symbols)\n",
    "    if the_k:\n",
    "        return (formula.subs(the_k[0], k)).simplify()\n",
    "    else:\n",
    "        return formula.simplify()"
   ]
  },
  {
   "cell_type": "code",
   "execution_count": 27,
   "id": "c9edb40f",
   "metadata": {},
   "outputs": [
    {
     "data": {
      "image/png": "[encoded data removed]",
      "text/latex": [
       "$\\displaystyle \\frac{\\sqrt{5} \\left(- \\left(1 - \\sqrt{5}\\right)^{k} + \\left(1 + \\sqrt{5}\\right)^{k}\\right)}{5}$"
      ],
      "text/plain": [
       "   ⎛          k           k⎞\n",
       "√5⋅⎝- (1 - √5)  + (1 + √5) ⎠\n",
       "────────────────────────────\n",
       "             5              "
      ]
     },
     "execution_count": 27,
     "metadata": {},
     "output_type": "execute_result"
    }
   ],
   "source": [
    "(exp_fps(S)*2**k).simplify()"
   ]
  },
  {
   "cell_type": "markdown",
   "id": "aa146d24",
   "metadata": {},
   "source": [
    "##  The recurrence as matrix"
   ]
  },
  {
   "cell_type": "markdown",
   "id": "d3a60aa4",
   "metadata": {},
   "source": [
    " Lets try transform the equation: $$F_{n+1}=F_n+F_{n-1}\\ (F_0=0; F_1=1)$$\n",
    " into a matrix form:"
   ]
  },
  {
   "cell_type": "markdown",
   "id": "05e9afd3",
   "metadata": {},
   "source": [
    "We can see than $F_n$ depends on two previous variables, so we want a matrix 2x2 that:\n",
    "$$\\begin{pmatrix}\n",
    "c_1 & c_2\\\\\n",
    "c_3 & c_4\n",
    "\\end{pmatrix}\\cdot \\binom{F_n}{F_{n-1}} = \\binom{F_{n+1}}{F_n} = \\binom{F_n+F_{n-1}}{F_n} = \\binom{F_{n+1}}{F_n}$$"
   ]
  },
  {
   "cell_type": "markdown",
   "id": "5cca4214",
   "metadata": {},
   "source": [
    "So the matrix is:\n",
    "$$ \\begin{pmatrix}\n",
    "1 & 1\\\\\n",
    "1 & 0\n",
    "\\end{pmatrix}^n \\cdot \\binom{1}{0} = \\binom{F_{n}}{F_{n-1}} $$"
   ]
  },
  {
   "cell_type": "code",
   "execution_count": 28,
   "id": "f37dd219",
   "metadata": {},
   "outputs": [
    {
     "data": {
      "image/png": "[encoded data removed]",
      "text/latex": [
       "$\\displaystyle \\left[\\begin{matrix}1 & 1\\\\1 & 0\\end{matrix}\\right]$"
      ],
      "text/plain": [
       "⎡1  1⎤\n",
       "⎢    ⎥\n",
       "⎣1  0⎦"
      ]
     },
     "execution_count": 28,
     "metadata": {},
     "output_type": "execute_result"
    }
   ],
   "source": [
    "M = Matrix([[1,1], [1, 0]])\n",
    "M"
   ]
  },
  {
   "cell_type": "code",
   "execution_count": 29,
   "id": "012dc613",
   "metadata": {},
   "outputs": [
    {
     "data": {
      "image/png": "[encoded data removed]",
      "text/latex": [
       "$\\displaystyle 5$"
      ],
      "text/plain": [
       "5"
      ]
     },
     "execution_count": 29,
     "metadata": {},
     "output_type": "execute_result"
    }
   ],
   "source": [
    "(M**4 * Matrix([1,0]))[0]"
   ]
  },
  {
   "cell_type": "markdown",
   "id": "058cc46e",
   "metadata": {},
   "source": [
    "Calculating powers of matrices is quite expensive, we usually making a trick called diagonal decomposition to do that.\n",
    "For any square matrix we can find the diagonal matrix $D$ and a matrix $P$, that $M = P\\cdot D \\cdot P^{-1}$. Since diagonal matrices are easy do multiply we save a lot of calculations:\n",
    "\n",
    "$$M^n = (P\\cdot D \\cdot P^{-1})^n = P\\cdot D^n \\cdot P^{-1}$$."
   ]
  },
  {
   "cell_type": "markdown",
   "id": "1e8fe4bb",
   "metadata": {},
   "source": [
    "Lets do it:"
   ]
  },
  {
   "cell_type": "code",
   "execution_count": 30,
   "id": "c24347d1",
   "metadata": {},
   "outputs": [
    {
     "data": {
      "image/png": "[encoded data removed]",
      "text/latex": [
       "$\\displaystyle \\left( \\left[\\begin{matrix}\\frac{1}{2} - \\frac{\\sqrt{5}}{2} & \\frac{1}{2} + \\frac{\\sqrt{5}}{2}\\\\1 & 1\\end{matrix}\\right], \\  \\left[\\begin{matrix}\\frac{1}{2} - \\frac{\\sqrt{5}}{2} & 0\\\\0 & \\frac{1}{2} + \\frac{\\sqrt{5}}{2}\\end{matrix}\\right]\\right)$"
      ],
      "text/plain": [
       "⎛                  ⎡1   √5        ⎤⎞\n",
       "⎜⎡1   √5  1   √5⎤  ⎢─ - ──    0   ⎥⎟\n",
       "⎜⎢─ - ──  ─ + ──⎥  ⎢2   2         ⎥⎟\n",
       "⎜⎢2   2   2   2 ⎥, ⎢              ⎥⎟\n",
       "⎜⎢              ⎥  ⎢        1   √5⎥⎟\n",
       "⎜⎣  1       1   ⎦  ⎢  0     ─ + ──⎥⎟\n",
       "⎝                  ⎣        2   2 ⎦⎠"
      ]
     },
     "execution_count": 30,
     "metadata": {},
     "output_type": "execute_result"
    }
   ],
   "source": [
    "P, D = M.diagonalize()\n",
    "P, D"
   ]
  },
  {
   "cell_type": "markdown",
   "id": "f566aa97",
   "metadata": {},
   "source": [
    "It occurs our $D$ matrix is composed from the same values (eigenvalues) as explicit formula for our sequence."
   ]
  },
  {
   "cell_type": "code",
   "execution_count": 31,
   "id": "10461872",
   "metadata": {},
   "outputs": [
    {
     "data": {
      "image/png": "[encoded data removed]",
      "text/latex": [
       "$\\displaystyle \\left\\{ \\frac{1}{2} - \\frac{\\sqrt{5}}{2} : 1, \\  \\frac{1}{2} + \\frac{\\sqrt{5}}{2} : 1\\right\\}$"
      ],
      "text/plain": [
       "⎧1   √5     1   √5   ⎫\n",
       "⎨─ - ──: 1, ─ + ──: 1⎬\n",
       "⎩2   2      2   2    ⎭"
      ]
     },
     "execution_count": 31,
     "metadata": {},
     "output_type": "execute_result"
    }
   ],
   "source": [
    "M.eigenvals()"
   ]
  },
  {
   "cell_type": "markdown",
   "id": "f55ed5d4",
   "metadata": {},
   "source": [
    "It is logical because both define how quick our sequence grows. Lets check if calculations are correct."
   ]
  },
  {
   "cell_type": "code",
   "execution_count": 32,
   "id": "f9fe7904",
   "metadata": {},
   "outputs": [
    {
     "data": {
      "image/png": "[encoded data removed]",
      "text/latex": [
       "$\\displaystyle 5$"
      ],
      "text/plain": [
       "5"
      ]
     },
     "execution_count": 32,
     "metadata": {},
     "output_type": "execute_result"
    }
   ],
   "source": [
    "simplify(P * D**4 * P.inv())[0,0]"
   ]
  },
  {
   "cell_type": "markdown",
   "id": "86e7664d",
   "metadata": {},
   "source": [
    "There is also connection betwen the generating function and the characteristic polynomial of the matrix."
   ]
  },
  {
   "cell_type": "code",
   "execution_count": 33,
   "id": "2b47c153",
   "metadata": {},
   "outputs": [
    {
     "data": {
      "image/png": "[encoded data removed]",
      "text/latex": [
       "$\\displaystyle x^{2} - x - 1$"
      ],
      "text/plain": [
       " 2        \n",
       "x  - x - 1"
      ]
     },
     "execution_count": 33,
     "metadata": {},
     "output_type": "execute_result"
    }
   ],
   "source": [
    "M.charpoly(x).as_expr()"
   ]
  },
  {
   "cell_type": "markdown",
   "id": "06cf79ee",
   "metadata": {},
   "source": [
    "## Dynamic programing"
   ]
  },
  {
   "cell_type": "markdown",
   "id": "a0f9ffe3",
   "metadata": {},
   "source": [
    "Since we have matrix/recursive representation of our problem we can easily read how to calculate it bottom-up."
   ]
  },
  {
   "cell_type": "code",
   "execution_count": 34,
   "id": "d82c16ba",
   "metadata": {},
   "outputs": [],
   "source": [
    "def fib_bu(n):\n",
    "    f1, f2 = 0, 1\n",
    "    return fib_bu_help(n, f1,f2)\n",
    "    \n",
    "def fib_bu_help(n, f1, f2):\n",
    "    if n > 0:\n",
    "        f1, f2 = f2, f1 + f2\n",
    "        return fib_bu_help(n-1, f1, f2)\n",
    "    else: return f2    "
   ]
  },
  {
   "cell_type": "code",
   "execution_count": 35,
   "id": "f7013ffa",
   "metadata": {},
   "outputs": [
    {
     "data": {
      "image/png": "[encoded data removed]",
      "text/latex": [
       "$\\displaystyle 5$"
      ],
      "text/plain": [
       "5"
      ]
     },
     "execution_count": 35,
     "metadata": {},
     "output_type": "execute_result"
    }
   ],
   "source": [
    "fib_bu(4)"
   ]
  },
  {
   "cell_type": "markdown",
   "id": "fe78b655",
   "metadata": {},
   "source": [
    "And also up-bottom."
   ]
  },
  {
   "cell_type": "code",
   "execution_count": 36,
   "id": "1eab79f4",
   "metadata": {},
   "outputs": [],
   "source": [
    "def fib_ub(n):\n",
    "    f1, f2 = 1, 0\n",
    "    return fib_ub_help(n, f1, f2)[1]\n",
    "    \n",
    "def fib_ub_help(n, f1, f2):\n",
    "    if n == 0:\n",
    "        return n, f1, f2\n",
    "    else:       \n",
    "        _, f3, f4 = fib_ub_help(n-1, f1 + f2, f1)\n",
    "        return n-1, f3, f4        \n",
    "       "
   ]
  },
  {
   "cell_type": "code",
   "execution_count": 37,
   "id": "69a9c1d3",
   "metadata": {},
   "outputs": [
    {
     "data": {
      "image/png": "[encoded data removed]",
      "text/latex": [
       "$\\displaystyle 8$"
      ],
      "text/plain": [
       "8"
      ]
     },
     "execution_count": 37,
     "metadata": {},
     "output_type": "execute_result"
    }
   ],
   "source": [
    "fib_ub(5)"
   ]
  },
  {
   "cell_type": "code",
   "execution_count": 38,
   "id": "20c7d9d5",
   "metadata": {},
   "outputs": [
    {
     "data": {
      "image/png": "[encoded data removed]",
      "text/latex": [
       "$\\displaystyle \\left[ 1, \\  1, \\  2, \\  3, \\  5, \\  8, \\  13, \\  21, \\  34, \\  55, \\  89, \\  144\\right]$"
      ],
      "text/plain": [
       "[1, 1, 2, 3, 5, 8, 13, 21, 34, 55, 89, 144]"
      ]
     },
     "execution_count": 38,
     "metadata": {},
     "output_type": "execute_result"
    }
   ],
   "source": [
    "list((fib_bu(x) for x in range(12)))"
   ]
  },
  {
   "cell_type": "code",
   "execution_count": 39,
   "id": "58067354",
   "metadata": {},
   "outputs": [
    {
     "data": {
      "image/png": "[encoded data removed]",
      "text/latex": [
       "$\\displaystyle \\left[ 1, \\  1, \\  2, \\  3, \\  5, \\  8, \\  13, \\  21, \\  34, \\  55, \\  89, \\  144\\right]$"
      ],
      "text/plain": [
       "[1, 1, 2, 3, 5, 8, 13, 21, 34, 55, 89, 144]"
      ]
     },
     "execution_count": 39,
     "metadata": {},
     "output_type": "execute_result"
    }
   ],
   "source": [
    "list((fib_ub(x) for x in range(12)))"
   ]
  },
  {
   "cell_type": "markdown",
   "id": "3b612b63",
   "metadata": {},
   "source": [
    "We can help ourselves with decorators."
   ]
  },
  {
   "cell_type": "code",
   "execution_count": 40,
   "id": "096f6ab9",
   "metadata": {},
   "outputs": [
    {
     "data": {
      "image/png": "[encoded data removed]",
      "text/latex": [
       "$\\displaystyle 5$"
      ],
      "text/plain": [
       "5"
      ]
     },
     "execution_count": 40,
     "metadata": {},
     "output_type": "execute_result"
    }
   ],
   "source": [
    "memory = {}\n",
    "def memoize_linear(f):\n",
    "    def inner(n):\n",
    "        if n not in memory:\n",
    "            memory[n] = f(n)\n",
    "        return memory[n]\n",
    "    return inner\n",
    "     \n",
    "@memoize_linear\n",
    "def fib_me(n):\n",
    "    if n == 0:\n",
    "        return 1\n",
    "    if n == 1:\n",
    "        return 1\n",
    "    else:\n",
    "        return  fib_me(n-1) + fib_me(n-2)\n",
    "\n",
    "fib_me(4) "
   ]
  },
  {
   "cell_type": "code",
   "execution_count": 41,
   "id": "591a4a24",
   "metadata": {},
   "outputs": [
    {
     "data": {
      "image/png": "[encoded data removed]",
      "text/latex": [
       "$\\displaystyle \\left[ 1, \\  1, \\  2, \\  3, \\  5, \\  8, \\  13, \\  21, \\  34, \\  55, \\  89, \\  144\\right]$"
      ],
      "text/plain": [
       "[1, 1, 2, 3, 5, 8, 13, 21, 34, 55, 89, 144]"
      ]
     },
     "execution_count": 41,
     "metadata": {},
     "output_type": "execute_result"
    }
   ],
   "source": [
    "list((fib_me(x)) for x in range(12))"
   ]
  },
  {
   "cell_type": "markdown",
   "id": "f32442e6",
   "metadata": {},
   "source": [
    "Generator in case we do not know how many Fibonacci numbers we want to generate."
   ]
  },
  {
   "cell_type": "code",
   "execution_count": 42,
   "id": "61650cf3",
   "metadata": {},
   "outputs": [],
   "source": [
    "def fib_inf():\n",
    "    f1, f2 = 1, 0\n",
    "    while True:\n",
    "        yield f1\n",
    "        f1, f2 = f1 + f2, f1\n"
   ]
  },
  {
   "cell_type": "code",
   "execution_count": 43,
   "id": "045217f7",
   "metadata": {},
   "outputs": [
    {
     "data": {
      "image/png": "[encoded data removed]",
      "text/latex": [
       "$\\displaystyle \\left[ 1, \\  1, \\  2, \\  3, \\  5, \\  8, \\  13, \\  21, \\  34, \\  55, \\  89, \\  144\\right]$"
      ],
      "text/plain": [
       "[1, 1, 2, 3, 5, 8, 13, 21, 34, 55, 89, 144]"
      ]
     },
     "execution_count": 43,
     "metadata": {},
     "output_type": "execute_result"
    }
   ],
   "source": [
    "gen =  fib_inf()\n",
    "[next(gen) for i in range(12)]"
   ]
  },
  {
   "cell_type": "markdown",
   "id": "6c31585b-1e21-486f-bd9c-90fa3f79e9b6",
   "metadata": {},
   "source": [
    "Just for fun one more implementation. Multiprocess implementation. "
   ]
  },
  {
   "cell_type": "code",
   "execution_count": 44,
   "id": "64f93bd2-5842-475b-a0a1-c7ac1c4f00a3",
   "metadata": {},
   "outputs": [
    {
     "data": {
      "image/png": "[encoded data removed]",
      "text/latex": [
       "$\\displaystyle 8$"
      ],
      "text/plain": [
       "8"
      ]
     },
     "execution_count": 44,
     "metadata": {},
     "output_type": "execute_result"
    }
   ],
   "source": [
    "from multiprocessing import Process, Lock\n",
    "from multiprocessing.sharedctypes import Value, Array\n",
    "\n",
    "def modify(f1, f2):\n",
    "    temp = f1.value\n",
    "    f1.value = f2.value + f1.value \n",
    "    f2.value = temp\n",
    "\n",
    "lock = Lock()\n",
    "\n",
    "f1 = Value('i', 1, lock=lock)\n",
    "f2 = Value('i', 1, lock=lock)\n",
    "\n",
    "x=0\n",
    "n=5\n",
    "while(x<n):\n",
    "    Process(target=modify, args=(f1, f2)).start()\n",
    "    x+=1\n",
    "\n",
    "f1.value"
   ]
  },
  {
   "cell_type": "markdown",
   "id": "99db0dca-5f5f-40f9-bd6a-9dbca6b82f2c",
   "metadata": {},
   "source": [
    "And another one. Insspired by [Introduction To Algorithms](https://www.amazon.com/Introduction-Algorithms-third-Thomas-Cormen-ebook/dp/B08FH8N996) book. Unfortunatelly I did not manage to make it exacly one-to-one with asyncio. The impentation does not run from Jupyter notebook, because it running event loop by itself. "
   ]
  },
  {
   "cell_type": "code",
   "execution_count": 45,
   "id": "cce59c59-222e-409e-aa7a-751ba519d6e8",
   "metadata": {},
   "outputs": [],
   "source": [
    "import asyncio\n",
    "\n",
    "async def fib_fut(n):\n",
    "    if n == 0:\n",
    "        return 1\n",
    "    if n == 1:\n",
    "        return 1\n",
    "    f1, f2 = await asyncio.gather(fib_fut(n-1), fib_fut(n-2))\n",
    "   \n",
    "    return f1 + f2   \n",
    "\n",
    "R = fib_fut(4)"
   ]
  },
  {
   "cell_type": "code",
   "execution_count": null,
   "id": "9ed010f1-22da-4677-8fb9-a28f9adcf6e5",
   "metadata": {},
   "outputs": [],
   "source": [
    "asyncio.run(R)"
   ]
  },
  {
   "cell_type": "markdown",
   "id": "71fcb490",
   "metadata": {},
   "source": [
    "Since we are pushing a little bit boundaries here, it is better to finish this notebook."
   ]
  },
  {
   "cell_type": "code",
   "execution_count": null,
   "id": "95093e54-5abc-49b4-9497-7f296b7e21dc",
   "metadata": {},
   "outputs": [],
   "source": []
  }
 ],
 "metadata": {
  "kernelspec": {
   "display_name": "Python 3 (ipykernel)",
   "language": "python",
   "name": "python3"
  },
  "language_info": {
   "codemirror_mode": {
    "name": "ipython",
    "version": 3
   },
   "file_extension": ".py",
   "mimetype": "text/x-python",
   "name": "python",
   "nbconvert_exporter": "python",
   "pygments_lexer": "ipython3",
   "version": "3.10.8"
  }
 },
 "nbformat": 4,
 "nbformat_minor": 5
}
